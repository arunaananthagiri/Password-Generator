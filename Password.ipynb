{
 "cells": [
  {
   "cell_type": "code",
   "execution_count": 1,
   "id": "b90a723c-5dc3-43a9-9988-7aa458471e49",
   "metadata": {},
   "outputs": [
    {
     "name": "stdout",
     "output_type": "stream",
     "text": [
      "Requirement already satisfied: pyperclip in /opt/anaconda3/lib/python3.11/site-packages (1.9.0)\n",
      "Note: you may need to restart the kernel to use updated packages.\n"
     ]
    }
   ],
   "source": [
    "pip install pyperclip"
   ]
  },
  {
   "cell_type": "code",
   "execution_count": 2,
   "id": "351b1e26-2f69-4f31-b7a0-75dbd46f9856",
   "metadata": {},
   "outputs": [],
   "source": [
    "import tkinter as tk\n",
    "from tkinter import messagebox\n",
    "import random\n",
    "import string\n",
    "import pyperclip"
   ]
  },
  {
   "cell_type": "code",
   "execution_count": 3,
   "id": "7ea8c0cf-c30e-46e0-abb1-9fcc8ad9ce3e",
   "metadata": {},
   "outputs": [],
   "source": [
    "def generate_password(length, include_uppercase, include_numbers, include_symbols, exclude_chars):\n",
    "    characters = string.ascii_lowercase\n",
    "    if include_uppercase:\n",
    "        characters += string.ascii_uppercase\n",
    "    if include_numbers:\n",
    "        characters += string.digits\n",
    "    if include_symbols:\n",
    "        characters += string.punctuation\n",
    "\n",
    "    # Exclude specified characters\n",
    "    characters = ''.join(c for c in characters if c not in exclude_chars)\n",
    "\n",
    "    if length < 4:\n",
    "        messagebox.showerror(\"Error\", \"Password length should be at least 4.\")\n",
    "        return None\n",
    "\n",
    "    password = ''.join(random.choice(characters) for _ in range(length))\n",
    "\n",
    "    # Ensure password includes at least one of each selected character type\n",
    "    if include_uppercase and not any(c.isupper() for c in password):\n",
    "        password = replace_random_char(password, string.ascii_uppercase, exclude_chars)\n",
    "    if include_numbers and not any(c.isdigit() for c in password):\n",
    "        password = replace_random_char(password, string.digits, exclude_chars)\n",
    "    if include_symbols and not any(c in string.punctuation for c in password):\n",
    "        password = replace_random_char(password, string.punctuation, exclude_chars)\n",
    "\n",
    "    return password\n",
    "\n",
    "def replace_random_char(password, char_set, exclude_chars):\n",
    "    char_set = ''.join(c for c in char_set if c not in exclude_chars)\n",
    "    password = list(password)\n",
    "    index = random.randint(0, len(password) - 1)\n",
    "    password[index] = random.choice(char_set)\n",
    "    return ''.join(password)\n"
   ]
  },
  {
   "cell_type": "code",
   "execution_count": 4,
   "id": "ebe29376-1bb2-4d63-b934-aeb1df7cae9f",
   "metadata": {},
   "outputs": [],
   "source": [
    "class PasswordGeneratorApp:\n",
    "    def __init__(self, root):\n",
    "        self.root = root\n",
    "        self.root.title(\"Advanced Password Generator\")\n",
    "\n",
    "        # Password length\n",
    "        self.length_label = tk.Label(root, text=\"Password Length:\")\n",
    "        self.length_label.pack()\n",
    "        self.length_entry = tk.Entry(root)\n",
    "        self.length_entry.pack()\n",
    "\n",
    "        # Character options\n",
    "        self.uppercase_var = tk.IntVar()\n",
    "        self.uppercase_check = tk.Checkbutton(root, text=\"Include Uppercase\", variable=self.uppercase_var)\n",
    "        self.uppercase_check.pack()\n",
    "\n",
    "        self.numbers_var = tk.IntVar()\n",
    "        self.numbers_check = tk.Checkbutton(root, text=\"Include Numbers\", variable=self.numbers_var)\n",
    "        self.numbers_check.pack()\n",
    "\n",
    "        self.symbols_var = tk.IntVar()\n",
    "        self.symbols_check = tk.Checkbutton(root, text=\"Include Symbols\", variable=self.symbols_var)\n",
    "        self.symbols_check.pack()\n",
    "\n",
    "        # Exclude characters\n",
    "        self.exclude_label = tk.Label(root, text=\"Exclude Characters:\")\n",
    "        self.exclude_label.pack()\n",
    "        self.exclude_entry = tk.Entry(root)\n",
    "        self.exclude_entry.pack()\n",
    "\n",
    "        # Generate button\n",
    "        self.generate_button = tk.Button(root, text=\"Generate Password\", command=self.generate_password)\n",
    "        self.generate_button.pack()\n",
    "\n",
    "        # Password display\n",
    "        self.password_entry = tk.Entry(root)\n",
    "        self.password_entry.pack()\n",
    "\n",
    "        # Copy to clipboard button\n",
    "        self.copy_button = tk.Button(root, text=\"Copy to Clipboard\", command=self.copy_to_clipboard)\n",
    "        self.copy_button.pack()\n",
    "\n",
    "    def generate_password(self):\n",
    "        try:\n",
    "            length = int(self.length_entry.get())\n",
    "        except ValueError:\n",
    "            messagebox.showerror(\"Error\", \"Password length must be an integer.\")\n",
    "            return\n",
    "\n",
    "        include_uppercase = self.uppercase_var.get()\n",
    "        include_numbers = self.numbers_var.get()\n",
    "        include_symbols = self.symbols_var.get()\n",
    "        exclude_chars = self.exclude_entry.get()\n",
    "\n",
    "        password = generate_password(length, include_uppercase, include_numbers, include_symbols, exclude_chars)\n",
    "        if password:\n",
    "            self.password_entry.delete(0, tk.END)\n",
    "            self.password_entry.insert(0, password)\n",
    "\n",
    "    def copy_to_clipboard(self):\n",
    "        password = self.password_entry.get()\n",
    "        pyperclip.copy(password)\n",
    "        messagebox.showinfo(\"Copied\", \"Password copied to clipboard!\")\n",
    "\n",
    "if __name__ == \"__main__\":\n",
    "    root = tk.Tk()\n",
    "    app = PasswordGeneratorApp(root)\n",
    "    root.mainloop()\n"
   ]
  },
  {
   "cell_type": "code",
   "execution_count": null,
   "id": "4a598b1b-bef6-4bc7-ac37-72dd5ce3e7b6",
   "metadata": {},
   "outputs": [],
   "source": []
  }
 ],
 "metadata": {
  "kernelspec": {
   "display_name": "Python 3 (ipykernel)",
   "language": "python",
   "name": "python3"
  },
  "language_info": {
   "codemirror_mode": {
    "name": "ipython",
    "version": 3
   },
   "file_extension": ".py",
   "mimetype": "text/x-python",
   "name": "python",
   "nbconvert_exporter": "python",
   "pygments_lexer": "ipython3",
   "version": "3.11.7"
  }
 },
 "nbformat": 4,
 "nbformat_minor": 5
}
